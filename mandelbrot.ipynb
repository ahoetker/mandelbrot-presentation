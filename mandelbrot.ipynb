{
 "cells": [
  {
   "cell_type": "markdown",
   "metadata": {},
   "source": [
    "# Demo: `mandelbrot_rs`"
   ]
  },
  {
   "cell_type": "markdown",
   "metadata": {},
   "source": [
    "First, import dependencies. `mandelbrot_rs` is imported just as any other package would be."
   ]
  },
  {
   "cell_type": "code",
   "execution_count": 1,
   "metadata": {},
   "outputs": [],
   "source": [
    "import numpy as np\n",
    "import ipywidgets as widgets\n",
    "from mandelbrot_rs import generate\n",
    "from matplotlib import pyplot as plt"
   ]
  },
  {
   "cell_type": "markdown",
   "metadata": {},
   "source": [
    "This widget will allow you to test out different parameters for the Mandelbrot set. These parameters are:\n",
    "\n",
    "* `n` - the maximum size of the generated image\n",
    "* `max_steps` - the number of iterations per pixel. This roughly correlates to level of detail.\n",
    "* `cmap` - the preset used to map integer data to colors for each pixel.\n",
    "\n",
    "To generate the image for your parameters, click or tap \"Run Interact\". \n",
    "\n",
    "**Note**: This widget will probably load much faster on your computer than on Binder. This is because `generate` is highly parallel, and will use as many operating system threads as it can. "
   ]
  },
  {
   "cell_type": "code",
   "execution_count": 2,
   "metadata": {},
   "outputs": [
    {
     "data": {
      "application/vnd.jupyter.widget-view+json": {
       "model_id": "24c97c8ec7184424bc095f83d8f55847",
       "version_major": 2,
       "version_minor": 0
      },
      "text/plain": [
       "Canvas(toolbar=Toolbar(toolitems=[('Home', 'Reset original view', 'home', 'home'), ('Back', 'Back to previous …"
      ]
     },
     "metadata": {},
     "output_type": "display_data"
    },
    {
     "data": {
      "application/vnd.jupyter.widget-view+json": {
       "model_id": "f7323efe37f546a58ebee37afda940a0",
       "version_major": 2,
       "version_minor": 0
      },
      "text/plain": [
       "interactive(children=(IntSlider(value=600, description='n', max=1000, min=100), IntSlider(value=64, descriptio…"
      ]
     },
     "metadata": {},
     "output_type": "display_data"
    }
   ],
   "source": [
    "%matplotlib widget\n",
    "fig = plt.figure(figsize=(6, 6))\n",
    "ax = fig.add_subplot(1, 1, 1)\n",
    "ax.set_axis_off()\n",
    "\n",
    "@widgets.interact_manual(n=(100,1000,1), max_steps=(8,128,2), cmap=[\"Spectral\", \"plasma\", \"hsv\"])\n",
    "def update(n=600, max_steps=64, cmap=\"Spectral\"):\n",
    "    image = generate(n=n, threshold=4, max_steps=max_steps)\n",
    "    ax.imshow(image, cmap)\n",
    "    plt.tight_layout()\n",
    "    plt.show()"
   ]
  }
 ],
 "metadata": {
  "kernelspec": {
   "display_name": "Python 3",
   "language": "python",
   "name": "python3"
  },
  "language_info": {
   "codemirror_mode": {
    "name": "ipython",
    "version": 3
   },
   "file_extension": ".py",
   "mimetype": "text/x-python",
   "name": "python",
   "nbconvert_exporter": "python",
   "pygments_lexer": "ipython3",
   "version": "3.7.5"
  }
 },
 "nbformat": 4,
 "nbformat_minor": 4
}
